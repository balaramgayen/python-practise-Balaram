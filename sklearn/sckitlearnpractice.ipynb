{
 "cells": [
  {
   "cell_type": "code",
   "execution_count": 18,
   "id": "46cfe14b",
   "metadata": {},
   "outputs": [
    {
     "name": "stdout",
     "output_type": "stream",
     "text": [
      "   over  run\n",
      "0     1   10\n",
      "1     2    6\n",
      "2     3   25\n",
      "3     4   12\n",
      "4     5   23\n",
      "5     6    3\n",
      "6     7    7\n",
      "7     8   18\n",
      "8     9   10\n",
      "9    10   20\n"
     ]
    }
   ],
   "source": [
    "import pandas as pd\n",
    "import numpy as np\n",
    "\n",
    "data = {\n",
    "    \"over\":{\n",
    "    \"0\":1,\n",
    "    \"1\":2,\n",
    "    \"2\":3,\n",
    "    \"3\":4,\n",
    "    \"4\":5,\n",
    "    \"5\":6,\n",
    "    \"6\":7,\n",
    "    \"7\":8,\n",
    "    \"8\":9,\n",
    "    \"9\":10\n",
    "  },\n",
    "  \"run\":{\n",
    "    \"0\":10,\n",
    "    \"1\":6,\n",
    "    \"2\":25,\n",
    "    \"3\":12,\n",
    "    \"4\":23,\n",
    "    \"5\":3,\n",
    "    \"6\":7,\n",
    "    \"7\":18,\n",
    "    \"8\":10,\n",
    "    \"9\":20\n",
    "  },\n",
    "}\n",
    "\n",
    "df = pd.DataFrame(data)\n",
    "\n",
    "print(df)"
   ]
  },
  {
   "cell_type": "code",
   "execution_count": 19,
   "id": "6d5b3f15",
   "metadata": {},
   "outputs": [
    {
     "name": "stdout",
     "output_type": "stream",
     "text": [
      "           over        run\n",
      "count  10.00000  10.000000\n",
      "mean    5.50000  13.400000\n",
      "std     3.02765   7.604092\n",
      "min     1.00000   3.000000\n",
      "25%     3.25000   7.750000\n",
      "50%     5.50000  11.000000\n",
      "75%     7.75000  19.500000\n",
      "max    10.00000  25.000000\n"
     ]
    }
   ],
   "source": [
    "newdf = df.describe()\n",
    "\n",
    "print(newdf)"
   ]
  },
  {
   "cell_type": "code",
   "execution_count": 23,
   "id": "842769a4",
   "metadata": {},
   "outputs": [
    {
     "name": "stdout",
     "output_type": "stream",
     "text": [
      "   over  run\n",
      "0     1   10\n",
      "1     2    6\n",
      "2     3   25\n",
      "3     4   12\n",
      "4     5   23\n",
      "5     6    3\n",
      "6     7    7\n",
      "7     8   18\n",
      "8     9   10\n",
      "9    10   20\n"
     ]
    }
   ],
   "source": [
    "print(df)"
   ]
  },
  {
   "cell_type": "code",
   "execution_count": 24,
   "id": "76fb2abf",
   "metadata": {},
   "outputs": [
    {
     "name": "stdout",
     "output_type": "stream",
     "text": [
      "   over  run\n",
      "0     1   10\n",
      "1     2    6\n",
      "2     3   25\n",
      "3     4   12\n",
      "4     5   23\n"
     ]
    }
   ],
   "source": [
    "print(df.head())"
   ]
  },
  {
   "cell_type": "code",
   "execution_count": 45,
   "id": "bd818df8",
   "metadata": {},
   "outputs": [
    {
     "data": {
      "image/png": "[encoded data removed]",
      "text/plain": [
       "<Figure size 432x288 with 1 Axes>"
      ]
     },
     "metadata": {
      "needs_background": "light"
     },
     "output_type": "display_data"
    }
   ],
   "source": [
    "import matplotlib.pyplot as plt\n",
    "\n",
    "plt.bar(df.over, df.run)\n",
    "\n",
    "plt.xlabel('x axis')\n",
    "plt.ylabel('y axis')\n",
    "\n",
    "plt.legend(['run per over'])\n",
    "\n",
    "plt.show()"
   ]
  },
  {
   "cell_type": "code",
   "execution_count": 48,
   "id": "b0a1d710",
   "metadata": {},
   "outputs": [
    {
     "data": {
      "text/plain": [
       "array([[10],\n",
       "       [ 6],\n",
       "       [25],\n",
       "       [12],\n",
       "       [23],\n",
       "       [ 3],\n",
       "       [ 7],\n",
       "       [18],\n",
       "       [10],\n",
       "       [20]], dtype=int64)"
      ]
     },
     "execution_count": 48,
     "metadata": {},
     "output_type": "execute_result"
    }
   ],
   "source": [
    "from sklearn.linear_model import LinearRegression\n",
    "\n",
    "formula = LinearRegression()\n",
    "\n",
    "x= df.over.values.reshape(-1,1)\n",
    "y = df.run.values.reshape(-1,1)\n",
    "\n"
   ]
  },
  {
   "cell_type": "code",
   "execution_count": 49,
   "id": "fe360a44",
   "metadata": {},
   "outputs": [
    {
     "data": {
      "text/plain": [
       "LinearRegression()"
      ]
     },
     "execution_count": 49,
     "metadata": {},
     "output_type": "execute_result"
    }
   ],
   "source": [
    "formula.fit(x,y)"
   ]
  },
  {
   "cell_type": "code",
   "execution_count": 53,
   "id": "ecef29ed",
   "metadata": {},
   "outputs": [
    {
     "name": "stdout",
     "output_type": "stream",
     "text": [
      "17\n"
     ]
    }
   ],
   "source": [
    "prediction = formula.predict([[19]])\n",
    "\n",
    "print(int(prediction))"
   ]
  },
  {
   "cell_type": "code",
   "execution_count": null,
   "id": "8cc859b8",
   "metadata": {},
   "outputs": [],
   "source": []
  }
 ],
 "metadata": {
  "kernelspec": {
   "display_name": "Python 3 (ipykernel)",
   "language": "python",
   "name": "python3"
  },
  "language_info": {
   "codemirror_mode": {
    "name": "ipython",
    "version": 3
   },
   "file_extension": ".py",
   "mimetype": "text/x-python",
   "name": "python",
   "nbconvert_exporter": "python",
   "pygments_lexer": "ipython3",
   "version": "3.9.7"
  }
 },
 "nbformat": 4,
 "nbformat_minor": 5
}
